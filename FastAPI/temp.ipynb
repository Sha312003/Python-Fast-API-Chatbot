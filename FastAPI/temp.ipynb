{
 "cells": [
  {
   "cell_type": "code",
   "execution_count": 2,
   "metadata": {},
   "outputs": [],
   "source": [
    "import json"
   ]
  },
  {
   "cell_type": "code",
   "execution_count": 3,
   "metadata": {},
   "outputs": [
    {
     "name": "stdout",
     "output_type": "stream",
     "text": [
      "Air Quality\n",
      "Trips by Distance\n",
      "Regional Air Quality Data\n",
      "Integrated Surface Dataset (Global)\n",
      "Global Historical Climatology Network - Daily (GHCN-Daily), Version 3\n",
      "US EPA Nonattainment Areas and Designations\n",
      "Water Quality Data\n",
      "AirNow Real Time Air Quality KML File\n",
      "AirNow Real Time Air Quality KML File\n",
      "U.S. Local Climatological Data (LCD)\n"
     ]
    }
   ],
   "source": [
    "# parse x:\n",
    "f = open('temp.json')\n",
    "\n",
    "y=json.load(f)\n",
    "\n",
    "# print(y['result']['results'][0]['title'])\n",
    "# formatted_json = json.dumps(y[], indent=4)\n",
    "# print(formatted_json['result']['results'][0])\n",
    "\n",
    "back_data=[]\n",
    "cnt=0\n",
    "\n",
    "for item in y['result']['results']:\n",
    "\n",
    "    for res in item['resources']:\n",
    "        if res['format']==\"csv\"or\"CSV\":\n",
    "            dict={}\n",
    "            dict['title']=item['title']\n",
    "            dict['description']=item['notes']\n",
    "            dict['link']=res['url']\n",
    "        else:\n",
    "            continue\n",
    "    back_data.append(dict)\n",
    "\n",
    "for items in back_data:\n",
    "    print(items['title'])\n",
    "    \n",
    "# print(len(back_data))"
   ]
  },
  {
   "cell_type": "code",
   "execution_count": 26,
   "metadata": {},
   "outputs": [
    {
     "name": "stdout",
     "output_type": "stream",
     "text": [
      "hello, my name si shashank,\n",
      "['hello, my name si shashank,']\n"
     ]
    }
   ],
   "source": [
    "word=\"hello, my name si shashank,\"\n",
    "s=word.split(' , ')\n",
    "for item in s:\n",
    "    print(item)\n",
    "print(s)"
   ]
  },
  {
   "cell_type": "code",
   "execution_count": 2,
   "metadata": {},
   "outputs": [],
   "source": [
    "import requests\n",
    "import json"
   ]
  },
  {
   "cell_type": "code",
   "execution_count": 3,
   "metadata": {},
   "outputs": [
    {
     "name": "stdout",
     "output_type": "stream",
     "text": [
      "https://data.cdc.gov/api/views/g4ie-h725/rows.xml?accessType=DOWNLOAD\n",
      "https://data.cityofnewyork.us/api/views/c3uy-2p5r/rows.xml?accessType=DOWNLOAD\n",
      "https://data.wprdc.org/dataset/5b18c198-474c-4723-b735-cc5220ad43cc/resource/82f29015-6905-4b1c-8300-afe9bb2231b3/download/total-population.csv\n",
      "https://data-lakecountyil.opendata.arcgis.com/datasets/lakecountyil::cancer-rates.kml?where=1=1&outSR=%7B%22latestWkid%22%3A3435%2C%22wkid%22%3A102671%7D\n",
      "https://data.cdc.gov/api/views/hk9y-quqm/rows.xml?accessType=DOWNLOAD\n",
      "https://data.cms.gov/data-api/v1/dataset/4b079921-8e18-463f-91cc-beb538004498/data\n",
      "https://data.cms.gov/data-api/v1/dataset/4b079921-8e18-463f-91cc-beb538004498/data\n",
      "https://data.chhs.ca.gov/dataset/596b5eed-31de-4fd8-a645-249f3f9b19c4/resource/1e38ed6a-e46d-44a3-844b-f130efdacff1/download/chemicals-in-cosmetics-efaquy.zip\n",
      "http://geo.pacioos.hawaii.edu/geoserver/PACIOOS/gwc/service/wms?service=WMS&version=1.1.1&request=GetCapabilities&tiled=true\n",
      "https://data.cdc.gov/api/views/bxq8-mugm/rows.xml?accessType=DOWNLOAD\n"
     ]
    }
   ],
   "source": [
    "url='https://catalog.data.gov/api/3/action/package_search?q=cancer'\n",
    "\n",
    "response=requests.get(url)\n",
    "\n",
    "# Check if the request was successful (status code 200)\n",
    "if response.status_code == 200:\n",
    "    # Print the response content\n",
    "    data=response.json()\n",
    "    \n",
    "    back_data=[]\n",
    "\n",
    "    for item in data['result']['results']:\n",
    "\n",
    "        for res in item['resources']:\n",
    "            if res['format']==\"csv\"or\"CSV\":\n",
    "                dict={}\n",
    "                dict['title']=item['title']\n",
    "                dict['description']=item['notes']\n",
    "                dict['link']=res['url']\n",
    "            else:\n",
    "                continue\n",
    "        back_data.append(dict)\n",
    "\n",
    "    for items in back_data:\n",
    "        print(items['link'])\n",
    "else:\n",
    "    print(f\"Failed to retrieve data. Status code: {response.status_code}\")"
   ]
  },
  {
   "cell_type": "code",
   "execution_count": 17,
   "metadata": {},
   "outputs": [
    {
     "name": "stdout",
     "output_type": "stream",
     "text": [
      "[{'title': 'Result 1', 'description': 'Description 1', 'link': 'link 1'}, {'title': 'Result 2', 'description': 'Description 2', 'link': 'link 2'}, {'title': 'Result 3', 'description': 'Description 3', 'link': 'link 3'}, {'title': 'Result 4', 'description': 'Description 4', 'link': 'link 4'}, {'title': 'Result 5', 'description': 'Description 5', 'link': 'link 5'}, {'title': 'Result 6', 'description': 'Description 6', 'link': 'link 6'}, {'title': 'Result 7', 'description': 'Description 7', 'link': 'link 7'}, {'title': 'Result 8', 'description': 'Description 8', 'link': 'link 8'}, {'title': 'Result 9', 'description': 'Description 9', 'link': 'link 9'}, {'title': 'Result 10', 'description': 'Description 10', 'link': 'link 10'}, {'title': 'Result 11', 'description': 'Description 11', 'link': 'link 11'}, {'title': 'Result 12', 'description': 'Description 12', 'link': 'link 12'}, {'title': 'Result 13', 'description': 'Description 13', 'link': 'link 13'}, {'title': 'Result 14', 'description': 'Description 14', 'link': 'link 14'}, {'title': 'Result 15', 'description': 'Description 15', 'link': 'link 15'}, {'title': 'Result 16', 'description': 'Description 16', 'link': 'link 16'}, {'title': 'Result 17', 'description': 'Description 17', 'link': 'link 17'}, {'title': 'Result 18', 'description': 'Description 18', 'link': 'link 18'}, {'title': 'Result 19', 'description': 'Description 19', 'link': 'link 19'}, {'title': 'Result 20', 'description': 'Description 20', 'link': 'link 20'}]\n"
     ]
    }
   ],
   "source": [
    "results = [\n",
    "        {\"title\": f\"Result {i}\", \"description\": f\"Description {i}\", \"link\": f\"link {i}\"}\n",
    "        for i in range(1, 21)  # Assume you have 20 results for demonstration\n",
    "    ]\n",
    "\n",
    "\n",
    "print(results)\n"
   ]
  },
  {
   "cell_type": "code",
   "execution_count": 32,
   "metadata": {},
   "outputs": [],
   "source": [
    "dict={}\n",
    "\n",
    "dict['key1']='val1'\n",
    "dict['key2']='val2'"
   ]
  },
  {
   "cell_type": "code",
   "execution_count": 33,
   "metadata": {},
   "outputs": [
    {
     "name": "stdout",
     "output_type": "stream",
     "text": [
      "{'key1': 'val1', 'key2': 'val2'}\n"
     ]
    }
   ],
   "source": [
    "print(dict)"
   ]
  },
  {
   "cell_type": "code",
   "execution_count": 4,
   "metadata": {},
   "outputs": [],
   "source": [
    "from  downloader import downloader\n",
    "\n",
    "downloader('https://data.cityofnewyork.us/api/views/c3uy-2p5r/rows.xml?accessType=DOWNLOAD')"
   ]
  },
  {
   "cell_type": "code",
   "execution_count": 6,
   "metadata": {},
   "outputs": [
    {
     "name": "stdout",
     "output_type": "stream",
     "text": [
      "t\n"
     ]
    }
   ],
   "source": [
    "response=requests.get('https://data.ny.gov/api/views/d6yy-54nr/rows.xml?accessType=DOWNLOAD')\n",
    "print(response.headers.get('content-type')[0])"
   ]
  },
  {
   "cell_type": "code",
   "execution_count": 5,
   "metadata": {},
   "outputs": [
    {
     "name": "stdout",
     "output_type": "stream",
     "text": [
      "text/csv\n"
     ]
    }
   ],
   "source": [
    "\n",
    "response=requests.get('https://www.fdic.gov/bank/individual/failed/banklist.csv')\n",
    "print(response.headers.get('content-type'))"
   ]
  },
  {
   "cell_type": "code",
   "execution_count": null,
   "metadata": {},
   "outputs": [],
   "source": []
  }
 ],
 "metadata": {
  "kernelspec": {
   "display_name": "chatP",
   "language": "python",
   "name": "python3"
  },
  "language_info": {
   "codemirror_mode": {
    "name": "ipython",
    "version": 3
   },
   "file_extension": ".py",
   "mimetype": "text/x-python",
   "name": "python",
   "nbconvert_exporter": "python",
   "pygments_lexer": "ipython3",
   "version": "3.10.11"
  }
 },
 "nbformat": 4,
 "nbformat_minor": 2
}
